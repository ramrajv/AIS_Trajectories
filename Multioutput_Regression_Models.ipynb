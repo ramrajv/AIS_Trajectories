{
  "nbformat": 4,
  "nbformat_minor": 0,
  "metadata": {
    "colab": {
      "provenance": [],
      "authorship_tag": "ABX9TyPoaSWmYterIsYReaM+Y+Je",
      "include_colab_link": true
    },
    "kernelspec": {
      "name": "python3",
      "display_name": "Python 3"
    },
    "language_info": {
      "name": "python"
    }
  },
  "cells": [
    {
      "cell_type": "markdown",
      "metadata": {
        "id": "view-in-github",
        "colab_type": "text"
      },
      "source": [
        "<a href=\"https://colab.research.google.com/github/ramrajv/AIS_Trajectories/blob/main/Multioutput_Regression_Models.ipynb\" target=\"_parent\"><img src=\"https://colab.research.google.com/assets/colab-badge.svg\" alt=\"Open In Colab\"/></a>"
      ]
    },
    {
      "cell_type": "markdown",
      "source": [
        "# How to Develop Multi-Output Regression Models"
      ],
      "metadata": {
        "id": "yz2ulVBo6Q4c"
      }
    },
    {
      "cell_type": "markdown",
      "source": [
        "Multioutput regression are regression problems that involve predicting two or more numerical values given an input example.\n",
        "\n",
        "An example might be to predict a coordinate given an input, e.g. predicting x and y values. Another example would be multi-step time series forecasting that involves predicting multiple future time series of a given variable.\n",
        "\n",
        "Many machine learning algorithms are designed for predicting a single numeric value, referred to simply as regression. Some algorithms do support multioutput regression inherently, such as linear regression and decision trees. There are also special workaround models that can be used to wrap and use those algorithms that do not natively support predicting multiple outputs.\n",
        "\n",
        "In this tutorial, you will discover how to develop machine learning models for multioutput regression.\n",
        "\n",
        "After completing this tutorial, you will know:\n",
        "\n",
        "<ol>\n",
        "<li>The problem of multioutput regression in machine learning.</li>\n",
        "<li>How to develop machine learning models that inherently support multiple-output regression.</li>\n",
        "<li>How to develop wrapper models that allow algorithms that do not inherently support multiple outputs to be used for multiple-output regression.</li>\n",
        "</ol>\n",
        "<strong>Kick-start your project </strong>with my new book Ensemble Learning Algorithms With Python, including step-by-step tutorials and the Python source code files for all examples.\n",
        "\n",
        "Let’s get started."
      ],
      "metadata": {
        "id": "sqzmUvlS6YYL"
      }
    },
    {
      "cell_type": "markdown",
      "source": [
        "## Tutorial Overview\n",
        "\n",
        "This tutorial is divided into five parts:\n",
        "<ol>\n",
        "<li>Problem of multioutput Regression</li>\n",
        "<ol>\n",
        "<li>Check Scikit-Learn Version</li>\n",
        "<li>Multioutput Regression Test Problem</li>\n",
        "</ol>\n",
        "<li>Inherently Multioutput Regression Algorithm</li>\n",
        "<ol>\n",
        "<li>Linear Regression for Mltioutput Regression</li>\n",
        "<li>k-Nearest Neighbors for Multioutput Regression</li>\n",
        "<li>Evaluate Multioutput Regression With Cross-Validation</li>\n",
        "</ol>\n",
        "<li>Wrapper Multioutput Regression Algorithms</li>\n",
        "<li>Direct Multioutput Regression</li>\n",
        "<li>Chained Multioutput Regression</li>\n",
        "</ol>"
      ],
      "metadata": {
        "id": "z37od_6Z9a4E"
      }
    },
    {
      "cell_type": "markdown",
      "source": [
        "## Problem of Multioutput Regression\n",
        "\n",
        "Regression refers to a predictive modeling problem that involves predicting a numerical value.\n",
        "\n",
        "For example, predicting a size, weight, amount, number of sales, and number of clicks are regression problems. Typically, a single numeric value is predicted given input variables.\n",
        "\n",
        "Some regression problems require the prediction of two or more numeric values. For example, predicting an x and y coordinate.\n",
        "\n",
        "These problems are referred to as multiple-output regression, or multioutput regression.\n",
        "\n",
        "<ul>\n",
        "<li><strong>Regression</strong>. Predict a single numeric output given an input.</li>\n",
        "<li><strong>Multioutput Regression</strong>. Predict two or more numeric outputs given an input</li>\n",
        "</ul>\n",
        "\n",
        "In multioutput regression, typically the outputs are dependent upon the input and upon each other. This means that often the outputs are not independent of each other and may require a model that predicts both outputs together or each output contingent upon the other outputs.\n",
        "\n",
        "Multi-step time series forecasting may be considered a type of multiple-output regression where a sequence of future values are predicted and each predicted value is dependent upon the prior values in the sequence.\n",
        "\n",
        "There are a number of strategies for handling multioutput regression and we will explore some of them in this tutorial."
      ],
      "metadata": {
        "id": "0Kxv-t9X-ilR"
      }
    },
    {
      "cell_type": "markdown",
      "source": [
        "## Check Scikit-Learn Version\n",
        "\n",
        "First, confirm that you have a modern version of the scikit-learn library installed.\n",
        "\n",
        "This is important because some of the models we will explore in this tutorial require a modern version of the library.\n",
        "\n",
        "You can check the version of the library with the following code example:"
      ],
      "metadata": {
        "id": "wA78c7NF_JTY"
      }
    },
    {
      "cell_type": "code",
      "execution_count": 1,
      "metadata": {
        "colab": {
          "base_uri": "https://localhost:8080/"
        },
        "id": "_OQ-HB6G6QNB",
        "outputId": "5956c14b-416a-4db2-8406-a8bb53ae1cc1"
      },
      "outputs": [
        {
          "output_type": "stream",
          "name": "stdout",
          "text": [
            "1.0.2\n"
          ]
        }
      ],
      "source": [
        "# check scikit-learn version\n",
        "import sklearn\n",
        "print(sklearn.__version__)"
      ]
    },
    {
      "cell_type": "markdown",
      "source": [
        "## Multioutput Regression Test Problem\n",
        "\n",
        "We can define a test problem that we can use to demonstrate the different modeling strategies.\n",
        "\n",
        "We will use the make_regression() function to create a test dataset for multiple-output regression. We will generate 1,000 examples with 10 input features, five of which will be redundant and five that will be informative. The problem will require the prediction of two numeric values.\n",
        "\n",
        "<ul>\n",
        "<li><strong>Problem Input</strong>: 10 numeric variables.</li>\n",
        "<li><strong>Problem Output:</strong> 2 numeric variables.</li></ul>\n",
        "The example below generates the dataset and summarizes the shape."
      ],
      "metadata": {
        "id": "WqOMZOjk_SE2"
      }
    },
    {
      "cell_type": "code",
      "source": [
        "# example of multioutput regression test problem\n",
        "from sklearn.datasets import make_regression\n",
        "# create datasets\n",
        "X, y = make_regression(n_samples=1000, n_features=10, n_informative=5, n_targets=2, random_state=1, noise=0.5)\n",
        "# summarize dataset\n",
        "print(X.shape, y.shape)"
      ],
      "metadata": {
        "colab": {
          "base_uri": "https://localhost:8080/"
        },
        "id": "-2tyn-iN_QhK",
        "outputId": "ad4da30e-b8a9-4459-dd86-8b2d02ca4d19"
      },
      "execution_count": 2,
      "outputs": [
        {
          "output_type": "stream",
          "name": "stdout",
          "text": [
            "(1000, 10) (1000, 2)\n"
          ]
        }
      ]
    },
    {
      "cell_type": "markdown",
      "source": [
        "## Inherently Multioutput Regression Algorithms\n",
        "\n",
        "Some regression machine learning algorithms support multiple outputs directly.\n",
        "\n",
        "This includes most of the popular machine learning algorithms implemented in the scikit-learn library, such as:\n",
        "<ul>\n",
        "<li>LinearRegression (and related)\n",
        "<li>KNeighborsRegressor\n",
        "<li>DecisionTreeRegressor\n",
        "<li>RandomForestRegressor (and related)</ul>\n",
        "Let’s look at a few examples to make this concrete."
      ],
      "metadata": {
        "id": "VH-rB78A_4kZ"
      }
    },
    {
      "cell_type": "markdown",
      "source": [
        "## Linear Regression for Multioutput Regression\n",
        "\n",
        "The example below fits a linear regression model on the multioutput regression dataset, then makes a single prediction with the fit model."
      ],
      "metadata": {
        "id": "nKctoP8xAH0e"
      }
    },
    {
      "cell_type": "code",
      "source": [
        "# linear regression for multioutput regression\n",
        "from sklearn.datasets import make_regression\n",
        "from sklearn.linear_model import LinearRegression\n",
        "# create datasets\n",
        "X, y = make_regression(n_samples=1000, n_features=10, n_informative=5, n_targets=2, random_state=1, noise=0.5)\n",
        "# define model\n",
        "model = LinearRegression()\n",
        "# fit model\n",
        "model.fit(X, y)\n",
        "# make a prediction\n",
        "row = [0.21947749, 0.32948997, 0.81560036, 0.440956, -0.0606303, -0.29257894, -0.2820059, -0.00290545, 0.96402263, 0.04992249]\n",
        "yhat = model.predict([row])\n",
        "# summarize prediction\n",
        "print(yhat[0])"
      ],
      "metadata": {
        "colab": {
          "base_uri": "https://localhost:8080/"
        },
        "id": "2TuFWUDj_y13",
        "outputId": "7fb84bb4-93cb-459a-cfa0-874a2fb34086"
      },
      "execution_count": 3,
      "outputs": [
        {
          "output_type": "stream",
          "name": "stdout",
          "text": [
            "[50.06781717 64.564973  ]\n"
          ]
        }
      ]
    },
    {
      "cell_type": "markdown",
      "source": [
        "## k-Nearest Neighbors for Multioutput Regression\n",
        "\n",
        "The example below fits a k-nearest neighbors model on the multioutput regression dataset, then makes a single prediction with the fit model."
      ],
      "metadata": {
        "id": "MD5duM-8AUxf"
      }
    },
    {
      "cell_type": "code",
      "source": [
        "# k-nearest neighbors for multioutput regression\n",
        "from sklearn.datasets import make_regression\n",
        "from sklearn.neighbors import KNeighborsRegressor\n",
        "# create datasets\n",
        "X, y = make_regression(n_samples=1000, n_features=10, n_informative=5, n_targets=2, random_state=1, noise=0.5)\n",
        "# define model\n",
        "model = KNeighborsRegressor()\n",
        "# fit model\n",
        "model.fit(X, y)\n",
        "# make a prediction\n",
        "row = [0.21947749, 0.32948997, 0.81560036, 0.440956, -0.0606303, -0.29257894, -0.2820059, -0.00290545, 0.96402263, 0.04992249]\n",
        "yhat = model.predict([row])\n",
        "# summarize prediction\n",
        "print(yhat[0])"
      ],
      "metadata": {
        "colab": {
          "base_uri": "https://localhost:8080/"
        },
        "id": "XcE2qBKRAOJW",
        "outputId": "5153b37e-3adf-45c3-cab8-59a85038cb91"
      },
      "execution_count": 4,
      "outputs": [
        {
          "output_type": "stream",
          "name": "stdout",
          "text": [
            "[-11.73511093  52.78406297]\n"
          ]
        }
      ]
    },
    {
      "cell_type": "markdown",
      "source": [
        "## Decision Tree for Multioutput Regression\n",
        "\n",
        "The example below fits a decision tree model on the multioutput regression dataset, then makes a single prediction with the fit model."
      ],
      "metadata": {
        "id": "iE0OW_GHAbxF"
      }
    },
    {
      "cell_type": "code",
      "source": [
        "# decision tree for multioutput regression\n",
        "from sklearn.datasets import make_regression\n",
        "from sklearn.tree import DecisionTreeRegressor\n",
        "# create datasets\n",
        "X, y = make_regression(n_samples=1000, n_features=10, n_informative=5, n_targets=2, random_state=1, noise=0.5)\n",
        "# define model\n",
        "model = DecisionTreeRegressor()\n",
        "# fit model\n",
        "model.fit(X, y)\n",
        "# make a prediction\n",
        "row = [0.21947749, 0.32948997, 0.81560036, 0.440956, -0.0606303, -0.29257894, -0.2820059, -0.00290545, 0.96402263, 0.04992249]\n",
        "yhat = model.predict([row])\n",
        "# summarize prediction\n",
        "print(yhat[0])"
      ],
      "metadata": {
        "colab": {
          "base_uri": "https://localhost:8080/"
        },
        "id": "7cpSttZMAZyM",
        "outputId": "51a0e7fb-7ec5-4415-a941-c1ded7908bdf"
      },
      "execution_count": 5,
      "outputs": [
        {
          "output_type": "stream",
          "name": "stdout",
          "text": [
            "[49.93137149 64.08484989]\n"
          ]
        }
      ]
    },
    {
      "cell_type": "markdown",
      "source": [
        "## Evaluate Multioutput Regression With Cross-Validation\n",
        "\n",
        "We may want to evaluate a multioutput regression using k-fold cross-validation.\n",
        "\n",
        "This can be achieved in the same way as evaluating any other machine learning model.\n",
        "\n",
        "We will fit and evaluate a <em>Decision TreeRegressor </em>model on the test problem using 10-fold cross-validation with three repeats. We will use the mean absolute error (MAE) performance metric as the score.\n",
        "\n",
        "The complete example is listed below."
      ],
      "metadata": {
        "id": "ZsrFj7u1AjtH"
      }
    },
    {
      "cell_type": "code",
      "source": [
        "# evaluate multioutput regression model with k-fold cross-validation\n",
        "from numpy import absolute\n",
        "from numpy import mean\n",
        "from numpy import std\n",
        "from sklearn.datasets import make_regression\n",
        "from sklearn.tree import DecisionTreeRegressor\n",
        "from sklearn.model_selection import cross_val_score\n",
        "from sklearn.model_selection import RepeatedKFold\n",
        "# create datasets\n",
        "X, y = make_regression(n_samples=1000, n_features=10, n_informative=5, n_targets=2, random_state=1, noise=0.5)\n",
        "# define model\n",
        "model = DecisionTreeRegressor()\n",
        "# define the evaluation procedure\n",
        "cv = RepeatedKFold(n_splits=10, n_repeats=3, random_state=1)\n",
        "# evaluate the model and collect the scores\n",
        "n_scores = cross_val_score(model, X, y, scoring='neg_mean_absolute_error', cv=cv, n_jobs=-1)\n",
        "# force the scores to be positive\n",
        "n_scores = absolute(n_scores)\n",
        "# summarize performance\n",
        "print('MAE: %.3f (%.3f)' % (mean(n_scores), std(n_scores)))"
      ],
      "metadata": {
        "colab": {
          "base_uri": "https://localhost:8080/"
        },
        "id": "_JFR_s8JAhX3",
        "outputId": "7981cc33-80b1-482d-b932-496f0148f84b"
      },
      "execution_count": 6,
      "outputs": [
        {
          "output_type": "stream",
          "name": "stdout",
          "text": [
            "MAE: 52.558 (2.946)\n"
          ]
        }
      ]
    },
    {
      "cell_type": "markdown",
      "source": [
        "Running the example evaluates the performance of the decision tree model for multioutput regression on the test problem. The mean and standard deviation of the MAE is reported calculated across all folds and all repeats.\n",
        "\n",
        "<strong>Note</strong>: Your results may vary given the stochastic nature of the algorithm or evaluation procedure, or differences in numerical precision. Consider running the example a few times and compare the average outcome.\n",
        "\n",
        "Importantly, error is reported across both output variables, rather than separate error scores for each output variable."
      ],
      "metadata": {
        "id": "MEDaVmacA0MQ"
      }
    },
    {
      "cell_type": "markdown",
      "source": [
        "## Wrapper Multioutput Regression Algorithms\n",
        "\n",
        "Not all regression algorithms support multioutput regression.\n",
        "\n",
        "One example is the support vector machine, although for regression, it is referred to as support vector regression, or SVR.\n",
        "\n",
        "This algorithm does not support multiple outputs for a regression problem and will raise an error. We can demonstrate this with an example, listed below."
      ],
      "metadata": {
        "id": "faTxFgzMA5cg"
      }
    },
    {
      "cell_type": "code",
      "source": [
        "# failure of support vector regression for multioutput regression (causes an error)\n",
        "from sklearn.datasets import make_regression\n",
        "from sklearn.svm import LinearSVR\n",
        "# create datasets\n",
        "X, y = make_regression(n_samples=1000, n_features=10, n_informative=5, n_targets=2, random_state=1)\n",
        "# define model\n",
        "model = LinearSVR()\n",
        "# fit model\n",
        "# (THIS WILL CAUSE AN ERROR!)\n",
        "model.fit(X, y)"
      ],
      "metadata": {
        "colab": {
          "base_uri": "https://localhost:8080/",
          "height": 345
        },
        "id": "-YWdvuKaAxC_",
        "outputId": "0ac8da14-a73e-41a0-8500-4b5ead9fa28a"
      },
      "execution_count": 7,
      "outputs": [
        {
          "output_type": "error",
          "ename": "ValueError",
          "evalue": "ignored",
          "traceback": [
            "\u001b[0;31m---------------------------------------------------------------------------\u001b[0m",
            "\u001b[0;31mValueError\u001b[0m                                Traceback (most recent call last)",
            "\u001b[0;32m<ipython-input-7-c503f6a1d7de>\u001b[0m in \u001b[0;36m<module>\u001b[0;34m\u001b[0m\n\u001b[1;32m      8\u001b[0m \u001b[0;31m# fit model\u001b[0m\u001b[0;34m\u001b[0m\u001b[0;34m\u001b[0m\u001b[0;34m\u001b[0m\u001b[0m\n\u001b[1;32m      9\u001b[0m \u001b[0;31m# (THIS WILL CAUSE AN ERROR!)\u001b[0m\u001b[0;34m\u001b[0m\u001b[0;34m\u001b[0m\u001b[0;34m\u001b[0m\u001b[0m\n\u001b[0;32m---> 10\u001b[0;31m \u001b[0mmodel\u001b[0m\u001b[0;34m.\u001b[0m\u001b[0mfit\u001b[0m\u001b[0;34m(\u001b[0m\u001b[0mX\u001b[0m\u001b[0;34m,\u001b[0m \u001b[0my\u001b[0m\u001b[0;34m)\u001b[0m\u001b[0;34m\u001b[0m\u001b[0;34m\u001b[0m\u001b[0m\n\u001b[0m",
            "\u001b[0;32m/usr/local/lib/python3.8/dist-packages/sklearn/svm/_classes.py\u001b[0m in \u001b[0;36mfit\u001b[0;34m(self, X, y, sample_weight)\u001b[0m\n\u001b[1;32m    473\u001b[0m             \u001b[0;32mraise\u001b[0m \u001b[0mValueError\u001b[0m\u001b[0;34m(\u001b[0m\u001b[0;34m\"Penalty term must be positive; got (C=%r)\"\u001b[0m \u001b[0;34m%\u001b[0m \u001b[0mself\u001b[0m\u001b[0;34m.\u001b[0m\u001b[0mC\u001b[0m\u001b[0;34m)\u001b[0m\u001b[0;34m\u001b[0m\u001b[0;34m\u001b[0m\u001b[0m\n\u001b[1;32m    474\u001b[0m \u001b[0;34m\u001b[0m\u001b[0m\n\u001b[0;32m--> 475\u001b[0;31m         X, y = self._validate_data(\n\u001b[0m\u001b[1;32m    476\u001b[0m             \u001b[0mX\u001b[0m\u001b[0;34m,\u001b[0m\u001b[0;34m\u001b[0m\u001b[0;34m\u001b[0m\u001b[0m\n\u001b[1;32m    477\u001b[0m             \u001b[0my\u001b[0m\u001b[0;34m,\u001b[0m\u001b[0;34m\u001b[0m\u001b[0;34m\u001b[0m\u001b[0m\n",
            "\u001b[0;32m/usr/local/lib/python3.8/dist-packages/sklearn/base.py\u001b[0m in \u001b[0;36m_validate_data\u001b[0;34m(self, X, y, reset, validate_separately, **check_params)\u001b[0m\n\u001b[1;32m    579\u001b[0m                 \u001b[0my\u001b[0m \u001b[0;34m=\u001b[0m \u001b[0mcheck_array\u001b[0m\u001b[0;34m(\u001b[0m\u001b[0my\u001b[0m\u001b[0;34m,\u001b[0m \u001b[0;34m**\u001b[0m\u001b[0mcheck_y_params\u001b[0m\u001b[0;34m)\u001b[0m\u001b[0;34m\u001b[0m\u001b[0;34m\u001b[0m\u001b[0m\n\u001b[1;32m    580\u001b[0m             \u001b[0;32melse\u001b[0m\u001b[0;34m:\u001b[0m\u001b[0;34m\u001b[0m\u001b[0;34m\u001b[0m\u001b[0m\n\u001b[0;32m--> 581\u001b[0;31m                 \u001b[0mX\u001b[0m\u001b[0;34m,\u001b[0m \u001b[0my\u001b[0m \u001b[0;34m=\u001b[0m \u001b[0mcheck_X_y\u001b[0m\u001b[0;34m(\u001b[0m\u001b[0mX\u001b[0m\u001b[0;34m,\u001b[0m \u001b[0my\u001b[0m\u001b[0;34m,\u001b[0m \u001b[0;34m**\u001b[0m\u001b[0mcheck_params\u001b[0m\u001b[0;34m)\u001b[0m\u001b[0;34m\u001b[0m\u001b[0;34m\u001b[0m\u001b[0m\n\u001b[0m\u001b[1;32m    582\u001b[0m             \u001b[0mout\u001b[0m \u001b[0;34m=\u001b[0m \u001b[0mX\u001b[0m\u001b[0;34m,\u001b[0m \u001b[0my\u001b[0m\u001b[0;34m\u001b[0m\u001b[0;34m\u001b[0m\u001b[0m\n\u001b[1;32m    583\u001b[0m \u001b[0;34m\u001b[0m\u001b[0m\n",
            "\u001b[0;32m/usr/local/lib/python3.8/dist-packages/sklearn/utils/validation.py\u001b[0m in \u001b[0;36mcheck_X_y\u001b[0;34m(X, y, accept_sparse, accept_large_sparse, dtype, order, copy, force_all_finite, ensure_2d, allow_nd, multi_output, ensure_min_samples, ensure_min_features, y_numeric, estimator)\u001b[0m\n\u001b[1;32m    977\u001b[0m     )\n\u001b[1;32m    978\u001b[0m \u001b[0;34m\u001b[0m\u001b[0m\n\u001b[0;32m--> 979\u001b[0;31m     \u001b[0my\u001b[0m \u001b[0;34m=\u001b[0m \u001b[0m_check_y\u001b[0m\u001b[0;34m(\u001b[0m\u001b[0my\u001b[0m\u001b[0;34m,\u001b[0m \u001b[0mmulti_output\u001b[0m\u001b[0;34m=\u001b[0m\u001b[0mmulti_output\u001b[0m\u001b[0;34m,\u001b[0m \u001b[0my_numeric\u001b[0m\u001b[0;34m=\u001b[0m\u001b[0my_numeric\u001b[0m\u001b[0;34m)\u001b[0m\u001b[0;34m\u001b[0m\u001b[0;34m\u001b[0m\u001b[0m\n\u001b[0m\u001b[1;32m    980\u001b[0m \u001b[0;34m\u001b[0m\u001b[0m\n\u001b[1;32m    981\u001b[0m     \u001b[0mcheck_consistent_length\u001b[0m\u001b[0;34m(\u001b[0m\u001b[0mX\u001b[0m\u001b[0;34m,\u001b[0m \u001b[0my\u001b[0m\u001b[0;34m)\u001b[0m\u001b[0;34m\u001b[0m\u001b[0;34m\u001b[0m\u001b[0m\n",
            "\u001b[0;32m/usr/local/lib/python3.8/dist-packages/sklearn/utils/validation.py\u001b[0m in \u001b[0;36m_check_y\u001b[0;34m(y, multi_output, y_numeric)\u001b[0m\n\u001b[1;32m    991\u001b[0m         )\n\u001b[1;32m    992\u001b[0m     \u001b[0;32melse\u001b[0m\u001b[0;34m:\u001b[0m\u001b[0;34m\u001b[0m\u001b[0;34m\u001b[0m\u001b[0m\n\u001b[0;32m--> 993\u001b[0;31m         \u001b[0my\u001b[0m \u001b[0;34m=\u001b[0m \u001b[0mcolumn_or_1d\u001b[0m\u001b[0;34m(\u001b[0m\u001b[0my\u001b[0m\u001b[0;34m,\u001b[0m \u001b[0mwarn\u001b[0m\u001b[0;34m=\u001b[0m\u001b[0;32mTrue\u001b[0m\u001b[0;34m)\u001b[0m\u001b[0;34m\u001b[0m\u001b[0;34m\u001b[0m\u001b[0m\n\u001b[0m\u001b[1;32m    994\u001b[0m         \u001b[0m_assert_all_finite\u001b[0m\u001b[0;34m(\u001b[0m\u001b[0my\u001b[0m\u001b[0;34m)\u001b[0m\u001b[0;34m\u001b[0m\u001b[0;34m\u001b[0m\u001b[0m\n\u001b[1;32m    995\u001b[0m         \u001b[0m_ensure_no_complex_data\u001b[0m\u001b[0;34m(\u001b[0m\u001b[0my\u001b[0m\u001b[0;34m)\u001b[0m\u001b[0;34m\u001b[0m\u001b[0;34m\u001b[0m\u001b[0m\n",
            "\u001b[0;32m/usr/local/lib/python3.8/dist-packages/sklearn/utils/validation.py\u001b[0m in \u001b[0;36mcolumn_or_1d\u001b[0;34m(y, warn)\u001b[0m\n\u001b[1;32m   1036\u001b[0m         \u001b[0;32mreturn\u001b[0m \u001b[0mnp\u001b[0m\u001b[0;34m.\u001b[0m\u001b[0mravel\u001b[0m\u001b[0;34m(\u001b[0m\u001b[0my\u001b[0m\u001b[0;34m)\u001b[0m\u001b[0;34m\u001b[0m\u001b[0;34m\u001b[0m\u001b[0m\n\u001b[1;32m   1037\u001b[0m \u001b[0;34m\u001b[0m\u001b[0m\n\u001b[0;32m-> 1038\u001b[0;31m     raise ValueError(\n\u001b[0m\u001b[1;32m   1039\u001b[0m         \u001b[0;34m\"y should be a 1d array, got an array of shape {} instead.\"\u001b[0m\u001b[0;34m.\u001b[0m\u001b[0mformat\u001b[0m\u001b[0;34m(\u001b[0m\u001b[0mshape\u001b[0m\u001b[0;34m)\u001b[0m\u001b[0;34m\u001b[0m\u001b[0;34m\u001b[0m\u001b[0m\n\u001b[1;32m   1040\u001b[0m     )\n",
            "\u001b[0;31mValueError\u001b[0m: y should be a 1d array, got an array of shape (1000, 2) instead."
          ]
        }
      ]
    },
    {
      "cell_type": "markdown",
      "source": [
        "A workaround for using regression models designed for predicting one value for multioutput regression is to divide the multioutput regression problem into multiple sub-problems.\n",
        "\n",
        "The most obvious way to do this is to split a multioutput regression problem into multiple single-output regression problems.\n",
        "\n",
        "For example, if a multioutput regression problem required the prediction of three values y1, y2 and y3 given an input X, then this could be partitioned into three single-output regression problems:\n",
        "<ul>\n",
        "<li>Problem 1: Given X, predict y1.\n",
        "<li>Problem 2: Given X, predict y2.\n",
        "<li>Problem 3: Given X, predict y3.\n",
        "</ul>\n",
        "There are two main approaches to implementing this technique.\n",
        "\n",
        "The first approach involves developing a separate regression model for each output value to be predicted. We can think of this as a direct approach, as each target value is modeled directly.\n",
        "\n",
        "The second approach is an extension of the first method except the models are organized into a chain. The prediction from the first model is taken as part of the input to the second model, and the process of output-to-input dependency repeats along the chain of models.\n",
        "<ul>\n",
        "<li>Direct Multioutput: Develop an independent model for each numerical value to be predicted.\n",
        "<li>Chained Multioutput: Develop a sequence of dependent models to match the number of numerical values to be predicted.\n",
        "</ul>\n",
        "Let’s take a closer look at each of these techniques in turn."
      ],
      "metadata": {
        "id": "z9Nwu3WjBCXM"
      }
    },
    {
      "cell_type": "markdown",
      "source": [
        "## Direct Multioutput Regression\n",
        "\n",
        "The direct approach to multioutput regression involves dividing the regression problem into a separate problem for each target variable to be predicted.\n",
        "\n",
        "This assumes that the outputs are independent of each other, which might not be a correct assumption. Nevertheless, this approach can provide surprisingly effective predictions on a range of problems and may be worth trying, at least as a performance baseline.\n",
        "\n",
        "For example, the outputs for your problem may, in fact, be mostly independent, if not completely independent, and this strategy can help you find out.\n",
        "\n",
        "This approach is supported by the MultiOutputRegressor class that takes a regression model as an argument. It will then create one instance of the provided model for each output in the problem.\n",
        "\n",
        "The example below demonstrates how we can first create a single-output regression model then use the MultiOutputRegressor class to wrap the regression model and add support for multioutput regression."
      ],
      "metadata": {
        "id": "zTNPlqBBBXpn"
      }
    },
    {
      "cell_type": "code",
      "source": [
        "from sklearn.multioutput import MultiOutputRegressor\n",
        "# define base model\n",
        "model = LinearSVR()\n",
        "# define the direct multioutput wrapper model\n",
        "wrapper = MultiOutputRegressor(model)"
      ],
      "metadata": {
        "id": "i5KcFChtA-6s"
      },
      "execution_count": 9,
      "outputs": []
    },
    {
      "cell_type": "markdown",
      "source": [
        "We can demonstrate this strategy with a worked example on our synthetic multioutput regression problem.\n",
        "\n",
        "The example below demonstrates evaluating the MultiOutputRegressor class with linear SVR using repeated k-fold cross-validation and reporting the average mean absolute error (MAE) across all folds and repeats.\n",
        "\n",
        "The complete example is listed below."
      ],
      "metadata": {
        "id": "GZOYTRvKCcpj"
      }
    },
    {
      "cell_type": "code",
      "source": [
        "# example of evaluating direct multioutput regression with an SVM model\n",
        "from numpy import mean\n",
        "from numpy import std\n",
        "from numpy import absolute\n",
        "from sklearn.datasets import make_regression\n",
        "from sklearn.model_selection import cross_val_score\n",
        "from sklearn.model_selection import RepeatedKFold\n",
        "from sklearn.multioutput import MultiOutputRegressor\n",
        "from sklearn.svm import LinearSVR\n",
        "# define dataset\n",
        "X, y = make_regression(n_samples=1000, n_features=10, n_informative=5, n_targets=2, random_state=1, noise=0.5)\n",
        "# define base model\n",
        "model = LinearSVR()\n",
        "# define the direct multioutput wrapper model\n",
        "wrapper = MultiOutputRegressor(model)\n",
        "# define the evaluation procedure\n",
        "cv = RepeatedKFold(n_splits=10, n_repeats=3, random_state=1)\n",
        "# evaluate the model and collect the scores\n",
        "n_scores = cross_val_score(wrapper, X, y, scoring='neg_mean_absolute_error', cv=cv, n_jobs=-1)\n",
        "# force the scores to be positive\n",
        "n_scores = absolute(n_scores)\n",
        "# summarize performance\n",
        "print('MAE: %.3f (%.3f)' % (mean(n_scores), std(n_scores)))"
      ],
      "metadata": {
        "colab": {
          "base_uri": "https://localhost:8080/"
        },
        "id": "t-0g8DRuCElX",
        "outputId": "e71ecf8a-77d3-4a34-ff23-78dd2574723c"
      },
      "execution_count": 10,
      "outputs": [
        {
          "output_type": "stream",
          "name": "stdout",
          "text": [
            "MAE: 0.419 (0.024)\n"
          ]
        }
      ]
    },
    {
      "cell_type": "markdown",
      "source": [
        "Running the example reports the mean and standard deviation MAE of the direct wrapper model.\n",
        "\n",
        "<strong>Note</strong>: Your results may vary given the stochastic nature of the algorithm or evaluation procedure, or differences in numerical precision. Consider running the example a few times and compare the average outcome.\n",
        "\n",
        "In this case, we can see that the Linear SVR model wrapped by the direct multioutput regression strategy achieved a MAE of about 0.419."
      ],
      "metadata": {
        "id": "63nLyaGcCn0K"
      }
    },
    {
      "cell_type": "markdown",
      "source": [
        "We can also use the direct multioutput regression wrapper as a final model and make predictions on new data.\n",
        "\n",
        "First, the model is fit on all available data, then the predict() function can be called to make predictions on new data.\n",
        "\n",
        "The example below demonstrates this on our synthetic multioutput regression dataset."
      ],
      "metadata": {
        "id": "oe-AKBgBCubc"
      }
    },
    {
      "cell_type": "code",
      "source": [
        "# example of making a prediction with the direct multioutput regression model\n",
        "from sklearn.datasets import make_regression\n",
        "from sklearn.multioutput import MultiOutputRegressor\n",
        "from sklearn.svm import LinearSVR\n",
        "# define dataset\n",
        "X, y = make_regression(n_samples=1000, n_features=10, n_informative=5, n_targets=2, random_state=1, noise=0.5)\n",
        "# define base model\n",
        "model = LinearSVR()\n",
        "# define the direct multioutput wrapper model\n",
        "wrapper = MultiOutputRegressor(model)\n",
        "# fit the model on the whole dataset\n",
        "wrapper.fit(X, y)\n",
        "# make a single prediction\n",
        "row = [0.21947749, 0.32948997, 0.81560036, 0.440956, -0.0606303, -0.29257894, -0.2820059, -0.00290545, 0.96402263, 0.04992249]\n",
        "yhat = wrapper.predict([row])\n",
        "# summarize the prediction\n",
        "print('Predicted: %s' % yhat[0])"
      ],
      "metadata": {
        "colab": {
          "base_uri": "https://localhost:8080/"
        },
        "id": "DNfUwSoUCgy9",
        "outputId": "ad39ce93-d773-431d-fa8c-45f3f54b0aed"
      },
      "execution_count": 11,
      "outputs": [
        {
          "output_type": "stream",
          "name": "stdout",
          "text": [
            "Predicted: [50.03229641 64.51513071]\n"
          ]
        }
      ]
    },
    {
      "cell_type": "markdown",
      "source": [
        "Now that we are familiar with using the direct multioutput regression wrapper, let’s look at the chained method.\n",
        "\n",
        "## Chained Multioutput Regression\n",
        "\n",
        "Another approach to using single-output regression models for multioutput regression is to create a linear sequence of models.\n",
        "\n",
        "The first model in the sequence uses the input and predicts one output; the second model uses the input and the output from the first model to make a prediction; the third model uses the input and output from the first two models to make a prediction, and so on.\n",
        "\n",
        "For example, if a multioutput regression problem required the prediction of three values y1, y2 and y3 given an input X, then this could be partitioned into three dependent single-output regression problems as follows:\n",
        "\n",
        "<ul>\n",
        "<li>Problem 1: Given X, predict y1.\n",
        "<li>Problem 2: Given X and yhat1, predict y2.\n",
        "<li>Problem 3: Given X, yhat1, and yhat2, predict y3.</ul>\n",
        "This can be achieved using the RegressorChain class in the scikit-learn library.\n",
        "\n",
        "The order of the models may be based on the order of the outputs in the dataset (the default) or specified via the “order” argument. For example, order=[0,1] would first predict the oth output, then the 1st output, whereas an order=[1,0] would first predict the last output variable and then the first output variable in our test problem.\n",
        "\n",
        "The example below demonstrates how we can first create a single-output regression model then use the RegressorChain class to wrap the regression model and add support for multioutput regression."
      ],
      "metadata": {
        "id": "CdA1NEjdC0HE"
      }
    },
    {
      "cell_type": "code",
      "source": [
        "from sklearn.multioutput import RegressorChain\n",
        "# define base model\n",
        "model = LinearSVR()\n",
        "# define the chained multioutput wrapper model\n",
        "wrapper = RegressorChain(model, order=[0,1])"
      ],
      "metadata": {
        "id": "YPhWv4G8CwY2"
      },
      "execution_count": 13,
      "outputs": []
    },
    {
      "cell_type": "markdown",
      "source": [
        "We can demonstrate this strategy with a worked example on our synthetic multioutput regression problem.\n",
        "\n",
        "The example below demonstrates evaluating the RegressorChain class with linear SVR using repeated k-fold cross-validation and reporting the average mean absolute error (MAE) across all folds and repeats.\n",
        "\n",
        "The complete example is listed below."
      ],
      "metadata": {
        "id": "MCCRL7lkDQKh"
      }
    },
    {
      "cell_type": "code",
      "source": [
        "# example of evaluating chained multioutput regression with an SVM model\n",
        "from numpy import mean\n",
        "from numpy import std\n",
        "from numpy import absolute\n",
        "from sklearn.datasets import make_regression\n",
        "from sklearn.model_selection import cross_val_score\n",
        "from sklearn.model_selection import RepeatedKFold\n",
        "from sklearn.multioutput import RegressorChain\n",
        "from sklearn.svm import LinearSVR\n",
        "# define dataset\n",
        "X, y = make_regression(n_samples=1000, n_features=10, n_informative=5, n_targets=2, random_state=1, noise=0.5)\n",
        "# define base model\n",
        "model = LinearSVR()\n",
        "# define the chained multioutput wrapper model\n",
        "wrapper = RegressorChain(model)\n",
        "# define the evaluation procedure\n",
        "cv = RepeatedKFold(n_splits=10, n_repeats=3, random_state=1)\n",
        "# evaluate the model and collect the scores\n",
        "n_scores = cross_val_score(wrapper, X, y, scoring='neg_mean_absolute_error', cv=cv, n_jobs=-1)\n",
        "# force the scores to be positive\n",
        "n_scores = absolute(n_scores)\n",
        "# summarize performance\n",
        "print('MAE: %.3f (%.3f)' % (mean(n_scores), std(n_scores)))"
      ],
      "metadata": {
        "colab": {
          "base_uri": "https://localhost:8080/"
        },
        "id": "b3fa56RnDEkS",
        "outputId": "040489ea-f408-4dc9-bfc8-c2e0320a1b55"
      },
      "execution_count": 14,
      "outputs": [
        {
          "output_type": "stream",
          "name": "stdout",
          "text": [
            "MAE: 0.663 (0.293)\n"
          ]
        }
      ]
    },
    {
      "cell_type": "markdown",
      "source": [
        "Running the example reports the mean and standard deviation MAE of the chained wrapper model.\n",
        "Note that you may see a ConvergenceWarning when running the example, which can be safely ignored.\n",
        "\n",
        "<strong>Note</strong>: Your results may vary given the stochastic nature of the algorithm or evaluation procedure, or differences in numerical precision. Consider running the example a few times and compare the average outcome.\n",
        "\n",
        "In this case, we can see that the Linear SVR model wrapped by the chained multioutput regression strategy achieved a MAE of about 0.643."
      ],
      "metadata": {
        "id": "oYTvGOTkDVrB"
      }
    },
    {
      "cell_type": "markdown",
      "source": [
        "We can also use the chained multioutput regression wrapper as a final model and make predictions on new data.\n",
        "\n",
        "First, the model is fit on all available data, then the predict() function can be called to make predictions on new data.\n",
        "\n",
        "The example below demonstrates this on our synthetic multioutput regression dataset."
      ],
      "metadata": {
        "id": "Ska9uaaHDbHo"
      }
    },
    {
      "cell_type": "code",
      "source": [
        "# example of making a prediction with the chained multioutput regression model\n",
        "from sklearn.datasets import make_regression\n",
        "from sklearn.multioutput import RegressorChain\n",
        "from sklearn.svm import LinearSVR\n",
        "# define dataset\n",
        "X, y = make_regression(n_samples=1000, n_features=10, n_informative=5, n_targets=2, random_state=1, noise=0.5)\n",
        "# define base model\n",
        "model = LinearSVR()\n",
        "# define the chained multioutput wrapper model\n",
        "wrapper = RegressorChain(model)\n",
        "# fit the model on the whole dataset\n",
        "wrapper.fit(X, y)\n",
        "# make a single prediction\n",
        "row = [0.21947749, 0.32948997, 0.81560036, 0.440956, -0.0606303, -0.29257894, -0.2820059, -0.00290545, 0.96402263, 0.04992249]\n",
        "yhat = wrapper.predict([row])\n",
        "# summarize the prediction\n",
        "print('Predicted: %s' % yhat[0])"
      ],
      "metadata": {
        "colab": {
          "base_uri": "https://localhost:8080/"
        },
        "id": "Kl7L48Q-DTD4",
        "outputId": "375cb3bd-ada6-4d23-8d05-820ae3444745"
      },
      "execution_count": 15,
      "outputs": [
        {
          "output_type": "stream",
          "name": "stdout",
          "text": [
            "Predicted: [50.02091631 65.66628518]\n"
          ]
        },
        {
          "output_type": "stream",
          "name": "stderr",
          "text": [
            "/usr/local/lib/python3.8/dist-packages/sklearn/svm/_base.py:1206: ConvergenceWarning: Liblinear failed to converge, increase the number of iterations.\n",
            "  warnings.warn(\n"
          ]
        }
      ]
    },
    {
      "cell_type": "code",
      "source": [],
      "metadata": {
        "id": "QBAVdk3zDduQ"
      },
      "execution_count": null,
      "outputs": []
    }
  ]
}